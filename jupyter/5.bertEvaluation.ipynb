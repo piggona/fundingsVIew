{
 "cells": [
  {
   "cell_type": "markdown",
   "metadata": {},
   "source": [
    "# Bert分类器效果测评"
   ]
  },
  {
   "cell_type": "markdown",
   "metadata": {},
   "source": [
    "## 基础指标"
   ]
  },
  {
   "cell_type": "code",
   "execution_count": 20,
   "metadata": {},
   "outputs": [
    {
     "name": "stdout",
     "output_type": "stream",
     "text": [
      "eval_accuracy = 0.8450704\n",
      "\n",
      "eval_loss = 0.43848258\n",
      "\n",
      "global_step = 8\n",
      "\n",
      "loss = 0.4377054\n",
      "\n"
     ]
    }
   ],
   "source": [
    "f = open(\"/Users/haohao/Documents/fundingsView/jupyter/eval_results.txt\",\"r\")\n",
    "line = f.readline()\n",
    "while line:\n",
    "    print(line)\n",
    "    line = f.readline()\n",
    "f.close()"
   ]
  },
  {
   "cell_type": "markdown",
   "metadata": {},
   "source": [
    "## 验证集预测效果对比"
   ]
  },
  {
   "cell_type": "code",
   "execution_count": 21,
   "metadata": {},
   "outputs": [],
   "source": [
    "import pandas as pd"
   ]
  },
  {
   "cell_type": "markdown",
   "metadata": {},
   "source": [
    "### 导入验证集数据"
   ]
  },
  {
   "cell_type": "code",
   "execution_count": 22,
   "metadata": {},
   "outputs": [
    {
     "name": "stdout",
     "output_type": "stream",
     "text": [
      "    label                                               text\n",
      "0       1  Additionally the project will contribute towar...\n",
      "1       0  The central part of the project is the study o...\n",
      "2       0  In contrast the acceptance of ANAMMOX in the U...\n",
      "3       1  The project provides support for graduate stud...\n",
      "4       0  A separate project is on the volumes of log su...\n",
      "5       0  Eutrophication is the excessive growth of alga...\n",
      "6       1  ; and 4) What is the effect of the interventio...\n",
      "7       1  They have the potential to approach the entrop...\n",
      "8       1  Long proxy records of these three variables ca...\n",
      "9       0  Solving complex biological problems requires a...\n",
      "10      0  Currently there are no studies that have focus...\n",
      "11      1  The goal of this research is to expand the set...\n",
      "12      1  This project will significantly enhance our un...\n",
      "13      1  The development of the rigorous theory is expe...\n",
      "14      0  ANAMMOX has been adopted internationally with ...\n",
      "15      1  The findings from this research will provide f...\n",
      "16      1  Using mathematical and biological approaches t...\n",
      "17      1  Successful development of this network will he...\n",
      "18      1  The goal of the project is to obtain a better ...\n",
      "19      1  This award supports fundamental research to ad...\n",
      "20      1  This project is expected to elucidate some of ...\n",
      "21      1  The project will address past contradictory ev...\n",
      "22      0  Students will be engaged in all aspects of the...\n",
      "23      0  This is due in part to concerns about process ...\n",
      "24      1  The multi-disciplinary project will develop ne...\n",
      "25      1  Second it will determine how those who signify...\n",
      "26      1  With a relatively small drainage area < 500 km...\n",
      "27      1  The project also includes an education and out...\n",
      "28      0  Undergraduate students will gain research expe...\n",
      "29      0  Research Initiation Awards provide support for...\n",
      "..    ...                                                ...\n",
      "41      1  The conference is expected to have a wide impa...\n",
      "42      0  Almost all thermoacoustic systems suffer from ...\n",
      "43      1  Findings from this research will help policy m...\n",
      "44      0  Under starvation M xanthus cells coordinate th...\n",
      "45      1  Widespread adoption of project outcomes will b...\n",
      "46      1  The goal of this project is to significantly i...\n",
      "47      0  Each year the conference will feature two plen...\n",
      "48      1  The project involves the continuing developmen...\n",
      "49      1  Algebraic geometry has important applications ...\n",
      "50      0  However the mechanisms of these behaviors are ...\n",
      "51      1  Such systems have the potential to revolutioni...\n",
      "52      0  This information can inform our understanding ...\n",
      "53      0  ThermoAcoustic Generators TAGs) are devices en...\n",
      "54      1  The award supports research in algebraic geome...\n",
      "55      1  The project team will evaluate the efficacy an...\n",
      "56      1  The fellowship supports research and training ...\n",
      "57      0  This will be achieved by coupling physics-base...\n",
      "58      0  Classically the performance limits of communic...\n",
      "59      1  Major themes in the conference include the str...\n",
      "60      1  The project concerns the anomalous spectral an...\n",
      "61      0  The 17th International Conference on Permutati...\n",
      "62      0  The proposed work will advance knowledge by de...\n",
      "63      1  ; 3) What is the effect of the intervention on...\n",
      "64      0  Some workers make their religious affiliations...\n",
      "65      0  Researchers will present their new results and...\n",
      "66      1  Results from this work will help inform the lo...\n",
      "67      1  By providing new insights and tools for studyi...\n",
      "68      0  The resilience of human-nature systems at the ...\n",
      "69      0  Excessive nitrogen N) releases from wastewater...\n",
      "70      0  The emphasis of the mathematical component of ...\n",
      "\n",
      "[71 rows x 2 columns]\n"
     ]
    }
   ],
   "source": [
    "test_data = pd.read_csv('labeled_test.csv')\n",
    "print(test_data)"
   ]
  },
  {
   "cell_type": "markdown",
   "metadata": {},
   "source": [
    "### 将预测结果整合输出"
   ]
  },
  {
   "cell_type": "code",
   "execution_count": 23,
   "metadata": {},
   "outputs": [
    {
     "name": "stdout",
     "output_type": "stream",
     "text": [
      "           0         1\n",
      "0   0.220789  0.779211\n",
      "1   0.275003  0.724997\n",
      "2   0.770649  0.229351\n",
      "3   0.232886  0.767114\n",
      "4   0.667694  0.332306\n",
      "5   0.769855  0.230145\n",
      "6   0.213835  0.786165\n",
      "7   0.701598  0.298402\n",
      "8   0.681356  0.318644\n",
      "9   0.394278  0.605722\n",
      "10  0.644790  0.355210\n",
      "11  0.274693  0.725307\n",
      "12  0.261218  0.738782\n",
      "13  0.316086  0.683914\n",
      "14  0.433029  0.566971\n",
      "15  0.255749  0.744251\n",
      "16  0.258984  0.741016\n",
      "17  0.587884  0.412116\n",
      "18  0.256754  0.743246\n",
      "19  0.295599  0.704401\n",
      "20  0.244695  0.755305\n",
      "21  0.251167  0.748833\n",
      "22  0.333241  0.666759\n",
      "23  0.767235  0.232765\n",
      "24  0.242821  0.757179\n",
      "25  0.245365  0.754635\n",
      "26  0.250922  0.749077\n",
      "27  0.241059  0.758941\n",
      "28  0.237811  0.762189\n",
      "29  0.359811  0.640189\n",
      "..       ...       ...\n",
      "41  0.331744  0.668256\n",
      "42  0.771009  0.228991\n",
      "43  0.258322  0.741678\n",
      "44  0.783439  0.216561\n",
      "45  0.258169  0.741831\n",
      "46  0.258468  0.741532\n",
      "47  0.749907  0.250093\n",
      "48  0.242171  0.757829\n",
      "49  0.440913  0.559087\n",
      "50  0.776659  0.223341\n",
      "51  0.356443  0.643557\n",
      "52  0.271252  0.728748\n",
      "53  0.762419  0.237581\n",
      "54  0.329697  0.670302\n",
      "55  0.245175  0.754825\n",
      "56  0.312674  0.687326\n",
      "57  0.279023  0.720977\n",
      "58  0.757756  0.242244\n",
      "59  0.277671  0.722329\n",
      "60  0.259388  0.740612\n",
      "61  0.443233  0.556767\n",
      "62  0.264681  0.735319\n",
      "63  0.232745  0.767255\n",
      "64  0.765510  0.234490\n",
      "65  0.752937  0.247063\n",
      "66  0.420887  0.579113\n",
      "67  0.247734  0.752266\n",
      "68  0.708816  0.291184\n",
      "69  0.771382  0.228618\n",
      "70  0.282198  0.717802\n",
      "\n",
      "[71 rows x 2 columns]\n"
     ]
    }
   ],
   "source": [
    "result = pd.read_csv('test_results.tsv',delimiter='\\t')\n",
    "print(result)"
   ]
  },
  {
   "cell_type": "code",
   "execution_count": 24,
   "metadata": {},
   "outputs": [],
   "source": [
    "def getChoose(x,y):\n",
    "    if x > y:\n",
    "        return 0\n",
    "    else:\n",
    "        return 1"
   ]
  },
  {
   "cell_type": "code",
   "execution_count": 25,
   "metadata": {},
   "outputs": [
    {
     "name": "stdout",
     "output_type": "stream",
     "text": [
      "           0         1  sel\n",
      "0   0.220789  0.779211    1\n",
      "1   0.275003  0.724997    1\n",
      "2   0.770649  0.229351    0\n",
      "3   0.232886  0.767114    1\n",
      "4   0.667694  0.332306    0\n",
      "5   0.769855  0.230145    0\n",
      "6   0.213835  0.786165    1\n",
      "7   0.701598  0.298402    0\n",
      "8   0.681356  0.318644    0\n",
      "9   0.394278  0.605722    1\n",
      "10  0.644790  0.355210    0\n",
      "11  0.274693  0.725307    1\n",
      "12  0.261218  0.738782    1\n",
      "13  0.316086  0.683914    1\n",
      "14  0.433029  0.566971    1\n",
      "15  0.255749  0.744251    1\n",
      "16  0.258984  0.741016    1\n",
      "17  0.587884  0.412116    0\n",
      "18  0.256754  0.743246    1\n",
      "19  0.295599  0.704401    1\n",
      "20  0.244695  0.755305    1\n",
      "21  0.251167  0.748833    1\n",
      "22  0.333241  0.666759    1\n",
      "23  0.767235  0.232765    0\n",
      "24  0.242821  0.757179    1\n",
      "25  0.245365  0.754635    1\n",
      "26  0.250922  0.749077    1\n",
      "27  0.241059  0.758941    1\n",
      "28  0.237811  0.762189    1\n",
      "29  0.359811  0.640189    1\n",
      "..       ...       ...  ...\n",
      "41  0.331744  0.668256    1\n",
      "42  0.771009  0.228991    0\n",
      "43  0.258322  0.741678    1\n",
      "44  0.783439  0.216561    0\n",
      "45  0.258169  0.741831    1\n",
      "46  0.258468  0.741532    1\n",
      "47  0.749907  0.250093    0\n",
      "48  0.242171  0.757829    1\n",
      "49  0.440913  0.559087    1\n",
      "50  0.776659  0.223341    0\n",
      "51  0.356443  0.643557    1\n",
      "52  0.271252  0.728748    1\n",
      "53  0.762419  0.237581    0\n",
      "54  0.329697  0.670302    1\n",
      "55  0.245175  0.754825    1\n",
      "56  0.312674  0.687326    1\n",
      "57  0.279023  0.720977    1\n",
      "58  0.757756  0.242244    0\n",
      "59  0.277671  0.722329    1\n",
      "60  0.259388  0.740612    1\n",
      "61  0.443233  0.556767    1\n",
      "62  0.264681  0.735319    1\n",
      "63  0.232745  0.767255    1\n",
      "64  0.765510  0.234490    0\n",
      "65  0.752937  0.247063    0\n",
      "66  0.420887  0.579113    1\n",
      "67  0.247734  0.752266    1\n",
      "68  0.708816  0.291184    0\n",
      "69  0.771382  0.228618    0\n",
      "70  0.282198  0.717802    1\n",
      "\n",
      "[71 rows x 3 columns]\n"
     ]
    }
   ],
   "source": [
    "result['sel'] = result[['0','1']].apply(lambda row:getChoose(row['0'],row['1']),axis=1)\n",
    "print(result)"
   ]
  },
  {
   "cell_type": "code",
   "execution_count": 29,
   "metadata": {},
   "outputs": [],
   "source": [
    "display = pd.concat([test_data,result],axis=1)"
   ]
  },
  {
   "cell_type": "code",
   "execution_count": 31,
   "metadata": {},
   "outputs": [
    {
     "name": "stdout",
     "output_type": "stream",
     "text": [
      "    label                                               text  sel\n",
      "0       1  Additionally the project will contribute towar...    1\n",
      "1       0  The central part of the project is the study o...    1\n",
      "2       0  In contrast the acceptance of ANAMMOX in the U...    0\n",
      "3       1  The project provides support for graduate stud...    1\n",
      "4       0  A separate project is on the volumes of log su...    0\n",
      "5       0  Eutrophication is the excessive growth of alga...    0\n",
      "6       1  ; and 4) What is the effect of the interventio...    1\n",
      "7       1  They have the potential to approach the entrop...    0\n",
      "8       1  Long proxy records of these three variables ca...    0\n",
      "9       0  Solving complex biological problems requires a...    1\n",
      "10      0  Currently there are no studies that have focus...    0\n",
      "11      1  The goal of this research is to expand the set...    1\n",
      "12      1  This project will significantly enhance our un...    1\n",
      "13      1  The development of the rigorous theory is expe...    1\n",
      "14      0  ANAMMOX has been adopted internationally with ...    1\n",
      "15      1  The findings from this research will provide f...    1\n",
      "16      1  Using mathematical and biological approaches t...    1\n",
      "17      1  Successful development of this network will he...    0\n",
      "18      1  The goal of the project is to obtain a better ...    1\n",
      "19      1  This award supports fundamental research to ad...    1\n",
      "20      1  This project is expected to elucidate some of ...    1\n",
      "21      1  The project will address past contradictory ev...    1\n",
      "22      0  Students will be engaged in all aspects of the...    1\n",
      "23      0  This is due in part to concerns about process ...    0\n",
      "24      1  The multi-disciplinary project will develop ne...    1\n",
      "25      1  Second it will determine how those who signify...    1\n",
      "26      1  With a relatively small drainage area < 500 km...    1\n",
      "27      1  The project also includes an education and out...    1\n",
      "28      0  Undergraduate students will gain research expe...    1\n",
      "29      0  Research Initiation Awards provide support for...    1\n",
      "..    ...                                                ...  ...\n",
      "41      1  The conference is expected to have a wide impa...    1\n",
      "42      0  Almost all thermoacoustic systems suffer from ...    0\n",
      "43      1  Findings from this research will help policy m...    1\n",
      "44      0  Under starvation M xanthus cells coordinate th...    0\n",
      "45      1  Widespread adoption of project outcomes will b...    1\n",
      "46      1  The goal of this project is to significantly i...    1\n",
      "47      0  Each year the conference will feature two plen...    0\n",
      "48      1  The project involves the continuing developmen...    1\n",
      "49      1  Algebraic geometry has important applications ...    1\n",
      "50      0  However the mechanisms of these behaviors are ...    0\n",
      "51      1  Such systems have the potential to revolutioni...    1\n",
      "52      0  This information can inform our understanding ...    1\n",
      "53      0  ThermoAcoustic Generators TAGs) are devices en...    0\n",
      "54      1  The award supports research in algebraic geome...    1\n",
      "55      1  The project team will evaluate the efficacy an...    1\n",
      "56      1  The fellowship supports research and training ...    1\n",
      "57      0  This will be achieved by coupling physics-base...    1\n",
      "58      0  Classically the performance limits of communic...    0\n",
      "59      1  Major themes in the conference include the str...    1\n",
      "60      1  The project concerns the anomalous spectral an...    1\n",
      "61      0  The 17th International Conference on Permutati...    1\n",
      "62      0  The proposed work will advance knowledge by de...    1\n",
      "63      1  ; 3) What is the effect of the intervention on...    1\n",
      "64      0  Some workers make their religious affiliations...    0\n",
      "65      0  Researchers will present their new results and...    0\n",
      "66      1  Results from this work will help inform the lo...    1\n",
      "67      1  By providing new insights and tools for studyi...    1\n",
      "68      0  The resilience of human-nature systems at the ...    0\n",
      "69      0  Excessive nitrogen N) releases from wastewater...    0\n",
      "70      0  The emphasis of the mathematical component of ...    1\n",
      "\n",
      "[71 rows x 3 columns]\n"
     ]
    }
   ],
   "source": [
    "print(display[['label','text','sel']])"
   ]
  }
 ],
 "metadata": {
  "kernelspec": {
   "display_name": "Python 3",
   "language": "python",
   "name": "python3"
  },
  "language_info": {
   "codemirror_mode": {
    "name": "ipython",
    "version": 3
   },
   "file_extension": ".py",
   "mimetype": "text/x-python",
   "name": "python",
   "nbconvert_exporter": "python",
   "pygments_lexer": "ipython3",
   "version": "3.6.8"
  }
 },
 "nbformat": 4,
 "nbformat_minor": 2
}
